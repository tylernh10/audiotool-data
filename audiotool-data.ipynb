{
 "cells": [
  {
   "cell_type": "code",
   "execution_count": 70,
   "metadata": {},
   "outputs": [],
   "source": [
    "import requests\n",
    "from bs4 import BeautifulSoup as bs"
   ]
  },
  {
   "cell_type": "code",
   "execution_count": 71,
   "metadata": {},
   "outputs": [],
   "source": [
    "base_url = \"https://www.audiotool.com/\"\n",
    "artists_page = \"browse/users\""
   ]
  },
  {
   "cell_type": "code",
   "execution_count": 88,
   "metadata": {},
   "outputs": [
    {
     "name": "stderr",
     "output_type": "stream",
     "text": [
      "C:\\Users\\tyler\\AppData\\Local\\Temp\\ipykernel_15768\\1818974180.py:3: DeprecationWarning: executable_path has been deprecated, please pass in a Service object\n",
      "  driver = webdriver.Chrome('/tmp/chromedriver')\n"
     ]
    }
   ],
   "source": [
    "\n",
    "from selenium import webdriver\n",
    "import time\n",
    "driver = webdriver.Chrome('/tmp/chromedriver')\n",
    "driver.get(base_url+artists_page)\n",
    "\n",
    "# driver.execute_script(\"document.getElementById('du-toggle').classList.add('clicked')\")\n",
    "\n",
    "# driver.find_element(\"class name\", \"user\")\n",
    "\n",
    "# driver.find_element(\"css selector\", \"#main-nav > div > section > nav > label > svg\").click()\n",
    "\n",
    "# username = driver.find_element(\"name\", \"username\")\n",
    "# username.send_keys(info.getUsername())\n",
    "\n",
    "# password = driver.find_element(\"name\", \"password\")\n",
    "# password.send_keys(info.getPassword())\n",
    "\n",
    "# driver.find_element(\"css selector\", \"#main-nav > div > section > nav > div > section > form > div.form > input.button.fullwidth\").click()\n",
    "\n",
    "for i in range(30): # switch to 10\n",
    "    driver.execute_script('window.scrollTo(0, document.body.scrollHeight);')\n",
    "    time.sleep(3)\n",
    "\n",
    "html = driver.page_source"
   ]
  },
  {
   "cell_type": "code",
   "execution_count": 89,
   "metadata": {},
   "outputs": [],
   "source": [
    "soup = bs(html, \"html.parser\")"
   ]
  },
  {
   "cell_type": "code",
   "execution_count": 90,
   "metadata": {},
   "outputs": [],
   "source": [
    "usernames = []\n",
    "num_followers = []\n",
    "num_published_tracks = []\n",
    "num_favorites = []\n",
    "num_albums = []\n",
    "num_assets = []\n",
    "num_following = []\n",
    "num_wall_posts = []\n",
    "time_since_joining = []\n",
    "top_track_num_plays = []\n",
    "top_track_num_favorites = []\n",
    "top_track_genre = []\n",
    "\n",
    "cols = [\n",
    "num_followers,\n",
    "num_published_tracks,\n",
    "num_favorites,\n",
    "num_albums,\n",
    "num_following,\n",
    "num_wall_posts,\n",
    "time_since_joining,\n",
    "top_track_num_plays,\n",
    "top_track_num_favorites,\n",
    "top_track_genre]"
   ]
  },
  {
   "cell_type": "code",
   "execution_count": 91,
   "metadata": {},
   "outputs": [],
   "source": [
    "def getContent(element):\n",
    "    return element.string"
   ]
  },
  {
   "cell_type": "code",
   "execution_count": 92,
   "metadata": {},
   "outputs": [],
   "source": [
    "usernames = list(map(getContent, soup.select(\".user-name-8\")))"
   ]
  },
  {
   "cell_type": "code",
   "execution_count": 94,
   "metadata": {},
   "outputs": [],
   "source": [
    "class ArtistError(Exception):\n",
    "    pass"
   ]
  },
  {
   "cell_type": "code",
   "execution_count": 204,
   "metadata": {},
   "outputs": [
    {
     "name": "stdout",
     "output_type": "stream",
     "text": [
      "Account deleted: W I Z\n",
      "Tried:  496\n",
      "Success:  430\n",
      "Errors:  66\n"
     ]
    }
   ],
   "source": [
    "from IPython.display import clear_output\n",
    "counter = 0\n",
    "error_counter = 0\n",
    "\n",
    "offset = 0\n",
    "\n",
    "# replace below with your audiotool credentials before running\n",
    "info = {\"username\": \"YOUR-AUDIOTOOL-USERNAME\",\n",
    "        \"password\": \"YOUR-AUDIOTOOL-PASSWORD\"}\n",
    "\n",
    "for j in cols: j.clear()\n",
    "with requests.Session() as s:\n",
    "    s.post(base_url, data=info)\n",
    "    for i in soup.select(\".user-name-8\")[offset:]:\n",
    "        artist_url = i['href']\n",
    "        artist_req = s.get(base_url+artist_url)\n",
    "        artist_soup = bs(artist_req.content, 'html.parser')\n",
    "        try:\n",
    "            if artist_req.status_code == 404: raise ArtistError(f\"Page not found: {usernames[offset+counter]}\")\n",
    "            if \"Deleted\" in list(map(getContent, artist_soup.select(\"h1\"))): raise ArtistError(f\"Account deleted: {usernames[offset+counter]}\")\n",
    "            if len(artist_soup.select(\"div._if-empty\")) > 0: raise ArtistError(f\"No published tracks: {usernames[offset+counter]}\")\n",
    "            tracks = artist_soup.select(\"#tab-nav > ul > li.tab-tracks.selected > a > span\")\n",
    "            num_published_tracks.append(tracks[0].string)\n",
    "\n",
    "            favorites = artist_soup.select(\"#tab-nav > ul > li.tab-favorites > a > span\")\n",
    "            num_favorites.append(favorites[0].string)\n",
    "\n",
    "            albums = artist_soup.select(\"#tab-nav > ul > li.tab-albums > a > span\")\n",
    "            num_albums.append(albums[0].string)\n",
    "\n",
    "            # currently: assets tag not being retrieved in html\n",
    "            # assets = artist_soup.select(\"#tab-nav > ul > li.tab-assets.selected > a > span\")\n",
    "            # num_assets.append(assets[0].string)\n",
    "\n",
    "            wall = artist_soup.select(\"#tab-nav > ul > li.tab-wall > a > span\")\n",
    "            num_wall_posts.append(wall[0].string)\n",
    "\n",
    "            followers = artist_soup.select(\"#header-content > div > section > p > span:nth-child(1) > span\")\n",
    "            num_followers.append(followers[0].string)\n",
    "\n",
    "            following = artist_soup.select(\"#header-content > div > section > p > span:nth-child(2) > span\")\n",
    "            num_following.append(following[0].string)\n",
    "\n",
    "            registered = artist_soup.select(\"#header-content > div > section > p > span:nth-child(3) > span\")\n",
    "            time_since_joining.append(registered[0].string)\n",
    "            \n",
    "            # top track\n",
    "            # click popular\n",
    "            # click on top track\n",
    "            # scrap stats from top track\n",
    "            # note: top track COULD be a pinned track, which is not necessarily the user's most popular track\n",
    "            # ability to hide tracks means most popular track only reflects public tracks not necessarily all tracks\n",
    "\n",
    "            # try:\n",
    "            user_popular = artist_soup.select(\"#body > article > div > nav > ul._filters._if-full.filter-sort > li:nth-child(2) > a\")[0]['href']\n",
    "            pop_req = s.get(base_url+user_popular)\n",
    "            pop_soup = bs(pop_req.content, 'html.parser')\n",
    "            user_top_track_url = pop_soup.select(\"a.entity.track._track-page\")[0]['href']\n",
    "            top_track_req = s.get(base_url+user_top_track_url)\n",
    "            top_track_soup = bs(top_track_req.content, 'html.parser')\n",
    "            \n",
    "            num_favs = top_track_soup.select(\"span._num-favs\")[0].string\n",
    "            top_track_num_favorites.append(num_favs)\n",
    "\n",
    "            play_count = top_track_soup.select(\"span._num-plays\")[0].string\n",
    "            top_track_num_plays.append(play_count)\n",
    "\n",
    "            genre = top_track_soup.select(\"a._genre-name._genre-url\")[0].string\n",
    "            top_track_genre.append(genre)\n",
    "            # except:\n",
    "            #     raise ArtistError(f\"Issue with top track: {usernames[counter]}\")\n",
    "            \n",
    "            print(\"successfully scraped:\", usernames[offset+counter])\n",
    "            clear_output(wait=True)\n",
    "        except ArtistError as e:\n",
    "            print(e)\n",
    "            error_counter += 1\n",
    "            for i in cols:\n",
    "                i.append(-1)\n",
    "        except Exception as e:\n",
    "            print(f\"EXCEPTION WITH USER {usernames[offset+counter]}: {e}\")\n",
    "            # counter += 1\n",
    "            error_counter += 1\n",
    "            break\n",
    "        finally:\n",
    "            counter += 1\n",
    "\n",
    "print(\"Tried: \", counter)\n",
    "print(\"Success: \", counter - error_counter)\n",
    "print(\"Errors: \", error_counter)"
   ]
  },
  {
   "cell_type": "code",
   "execution_count": 205,
   "metadata": {},
   "outputs": [],
   "source": [
    "import pandas as pd"
   ]
  },
  {
   "cell_type": "code",
   "execution_count": 206,
   "metadata": {},
   "outputs": [
    {
     "name": "stdout",
     "output_type": "stream",
     "text": [
      "430\n"
     ]
    },
    {
     "data": {
      "text/html": [
       "<div>\n",
       "<style scoped>\n",
       "    .dataframe tbody tr th:only-of-type {\n",
       "        vertical-align: middle;\n",
       "    }\n",
       "\n",
       "    .dataframe tbody tr th {\n",
       "        vertical-align: top;\n",
       "    }\n",
       "\n",
       "    .dataframe thead th {\n",
       "        text-align: right;\n",
       "    }\n",
       "</style>\n",
       "<table border=\"1\" class=\"dataframe\">\n",
       "  <thead>\n",
       "    <tr style=\"text-align: right;\">\n",
       "      <th></th>\n",
       "      <th>num_followers</th>\n",
       "      <th>num_pub</th>\n",
       "      <th>num_fav</th>\n",
       "      <th>num_alb</th>\n",
       "      <th>num_fol</th>\n",
       "      <th>num_wal</th>\n",
       "      <th>time</th>\n",
       "      <th>top_plays</th>\n",
       "      <th>top_favs</th>\n",
       "      <th>top_genre</th>\n",
       "    </tr>\n",
       "  </thead>\n",
       "  <tbody>\n",
       "    <tr>\n",
       "      <th>0</th>\n",
       "      <td>7596</td>\n",
       "      <td>130</td>\n",
       "      <td>1809</td>\n",
       "      <td>2</td>\n",
       "      <td>52</td>\n",
       "      <td>11825</td>\n",
       "      <td>about 12 years ago</td>\n",
       "      <td>145367</td>\n",
       "      <td>2814</td>\n",
       "      <td>Bass Music</td>\n",
       "    </tr>\n",
       "    <tr>\n",
       "      <th>1</th>\n",
       "      <td>4748</td>\n",
       "      <td>206</td>\n",
       "      <td>5045</td>\n",
       "      <td>11</td>\n",
       "      <td>896</td>\n",
       "      <td>24431</td>\n",
       "      <td>about 9 years ago</td>\n",
       "      <td>4049</td>\n",
       "      <td>161</td>\n",
       "      <td>Hip Hop</td>\n",
       "    </tr>\n",
       "    <tr>\n",
       "      <th>2</th>\n",
       "      <td>4495</td>\n",
       "      <td>427</td>\n",
       "      <td>8551</td>\n",
       "      <td>31</td>\n",
       "      <td>1358</td>\n",
       "      <td>7821</td>\n",
       "      <td>about 12 years ago</td>\n",
       "      <td>7238</td>\n",
       "      <td>192</td>\n",
       "      <td>Industrial</td>\n",
       "    </tr>\n",
       "    <tr>\n",
       "      <th>3</th>\n",
       "      <td>4419</td>\n",
       "      <td>310</td>\n",
       "      <td>4481</td>\n",
       "      <td>8</td>\n",
       "      <td>169</td>\n",
       "      <td>7428</td>\n",
       "      <td>about 11 years ago</td>\n",
       "      <td>52399</td>\n",
       "      <td>1693</td>\n",
       "      <td>Bass Music</td>\n",
       "    </tr>\n",
       "    <tr>\n",
       "      <th>4</th>\n",
       "      <td>4103</td>\n",
       "      <td>194</td>\n",
       "      <td>4760</td>\n",
       "      <td>30</td>\n",
       "      <td>605</td>\n",
       "      <td>2930</td>\n",
       "      <td>about 12 years ago</td>\n",
       "      <td>44409</td>\n",
       "      <td>308</td>\n",
       "      <td>Downtempo</td>\n",
       "    </tr>\n",
       "  </tbody>\n",
       "</table>\n",
       "</div>"
      ],
      "text/plain": [
       "  num_followers num_pub num_fav num_alb num_fol num_wal                time  \\\n",
       "0          7596     130    1809       2      52   11825  about 12 years ago   \n",
       "1          4748     206    5045      11     896   24431   about 9 years ago   \n",
       "2          4495     427    8551      31    1358    7821  about 12 years ago   \n",
       "3          4419     310    4481       8     169    7428  about 11 years ago   \n",
       "4          4103     194    4760      30     605    2930  about 12 years ago   \n",
       "\n",
       "  top_plays top_favs   top_genre  \n",
       "0    145367     2814  Bass Music  \n",
       "1      4049      161     Hip Hop  \n",
       "2      7238      192  Industrial  \n",
       "3     52399     1693  Bass Music  \n",
       "4     44409      308   Downtempo  "
      ]
     },
     "execution_count": 206,
     "metadata": {},
     "output_type": "execute_result"
    }
   ],
   "source": [
    "data = dict()\n",
    "\n",
    "cols2 = [\n",
    "num_followers,\n",
    "num_published_tracks,\n",
    "num_favorites,\n",
    "num_albums,\n",
    "num_following,\n",
    "num_wall_posts,\n",
    "time_since_joining,\n",
    "top_track_num_plays,\n",
    "top_track_num_favorites,\n",
    "top_track_genre]\n",
    "# no top track causes issues --> put negative ones in everything\n",
    "\n",
    "names = [\"num_followers\", \"num_pub\", \"num_fav\", \"num_alb\", \"num_fol\", \"num_wal\", \"time\", \"top_plays\", \"top_favs\", \"top_genre\"]\n",
    "# print(usernames[79])\n",
    "# print(num_followers[79])\n",
    "\n",
    "for i in range(len(cols2)):\n",
    "    # print(len(cols2[i]))\n",
    "    data[names[i]] = cols2[i]\n",
    "\n",
    "\n",
    "df = pd.DataFrame(data = data)\n",
    "df = df[df.num_followers != -1]\n",
    "print(df.shape[0])\n",
    "df.head(5)"
   ]
  },
  {
   "cell_type": "code",
   "execution_count": 182,
   "metadata": {},
   "outputs": [],
   "source": [
    "df.to_csv(\"music.csv\")"
   ]
  },
  {
   "cell_type": "code",
   "execution_count": 203,
   "metadata": {},
   "outputs": [
    {
     "name": "stdout",
     "output_type": "stream",
     "text": [
      "404\n",
      "200\n"
     ]
    }
   ],
   "source": [
    "info = {\"username\": \"audiotooldata\",\n",
    "        \"password\": \"HBJJHB^%$5IOH^%$\"}\n",
    "\n",
    "test_req = requests.get(base_url+\"/user/crazydruminator/\")\n",
    "print(test_req.status_code)\n",
    "\n",
    "with requests.Session() as s:\n",
    "        s.post(base_url, data = info)\n",
    "        req = s.get(base_url+\"/user/crazydruminator/\", data=info)\n",
    "        print(req.status_code)"
   ]
  },
  {
   "cell_type": "code",
   "execution_count": 208,
   "metadata": {},
   "outputs": [
    {
     "name": "stdout",
     "output_type": "stream",
     "text": [
      "  num_followers num_pub num_fav num_alb num_fol num_wal                time  \\\n",
      "0          7596     130    1809       2      52   11825  about 12 years ago   \n",
      "1          4748     206    5045      11     896   24431   about 9 years ago   \n",
      "2          4495     427    8551      31    1358    7821  about 12 years ago   \n",
      "3          4419     310    4481       8     169    7428  about 11 years ago   \n",
      "4          4103     194    4760      30     605    2930  about 12 years ago   \n",
      "5          4008       5       0      14       1     250  about 12 years ago   \n",
      "6          3684     287    3182      17     278    4201  about 11 years ago   \n",
      "7          3321     111    7418      30     753    5649  about 10 years ago   \n",
      "8          3207     137    1401       1      49    2200  about 12 years ago   \n",
      "9          3172     209   21902       1    1483    6409  about 11 years ago   \n",
      "\n",
      "  top_plays top_favs      top_genre  \n",
      "0    145367     2814     Bass Music  \n",
      "1      4049      161        Hip Hop  \n",
      "2      7238      192     Industrial  \n",
      "3     52399     1693     Bass Music  \n",
      "4     44409      308      Downtempo  \n",
      "5     46413      533         Newbie  \n",
      "6     38477     1143        Hip Hop  \n",
      "7     12685      401    Future Bass  \n",
      "8     61853     1764     Bass Music  \n",
      "9     17393      644  uncategorized  \n"
     ]
    }
   ],
   "source": [
    "def transform_to_int(t):\n",
    "    return int(t)\n",
    "\n",
    "def transform_time(time):\n",
    "    return int(str(time).split()[1])\n",
    "\n",
    "def transform_genre(genre):\n",
    "    return str(genre)\n",
    "\n",
    "print(df.head(10))"
   ]
  },
  {
   "cell_type": "code",
   "execution_count": 209,
   "metadata": {},
   "outputs": [],
   "source": [
    "df['num_followers'] = df['num_followers'].apply(transform_to_int)\n",
    "df['num_pub'] = df['num_pub'].apply(transform_to_int)\n",
    "df['num_fav'] = df['num_fav'].apply(transform_to_int)\n",
    "df['num_alb'] = df['num_alb'].apply(transform_to_int)\n",
    "df['num_fol'] = df['num_fol'].apply(transform_to_int)\n",
    "df['num_wal'] = df['num_wal'].apply(transform_to_int)\n",
    "df['time'] = df['time'].apply(transform_time)\n",
    "df['top_plays'] = df['top_plays'].apply(transform_to_int)\n",
    "df['top_favs'] = df['top_favs'].apply(transform_to_int)\n",
    "df['top_genre'] = df['top_genre'].apply(transform_genre)"
   ]
  },
  {
   "cell_type": "code",
   "execution_count": 213,
   "metadata": {},
   "outputs": [],
   "source": [
    "df = df.reset_index()\n",
    "df = df.drop(columns=['index'])"
   ]
  },
  {
   "cell_type": "code",
   "execution_count": 214,
   "metadata": {},
   "outputs": [],
   "source": [
    "df.to_csv(\"audiotool-data-cleaned.csv\")"
   ]
  },
  {
   "cell_type": "code",
   "execution_count": 225,
   "metadata": {},
   "outputs": [],
   "source": [
    "# Data Visualization\n",
    "\n",
    "import matplotlib.pyplot as plt\n",
    "import numpy as np\n",
    "import seaborn as sns"
   ]
  },
  {
   "cell_type": "code",
   "execution_count": null,
   "metadata": {},
   "outputs": [],
   "source": [
    "col_names = [\"Number of Tracks Published\", \"Number of Tracks Favorited\", \"Number of Albums Published\", \"Number Following\", \"Number of Posts on Wall\", \"Time Since Registration\", \"Number of Plays on Top Track\", \"Number of Favorites on Top Track\", \"Genre on Top Track\"]\n",
    "col_ids = [\"num_followers\",\t\"num_pub\", \"num_fav\", \"num_alb\", \"num_fol\",\t\"num_wal\", \"time\", \"top_plays\", \"top_favs\",\t\"top_genre\"]\n",
    "\n",
    "y = df['num_followers']\n",
    "for i in range(len(col_names) - 1):\n",
    "    \n",
    "    x = df[col_ids[i+1]]\n",
    "    a, b = np.polyfit(x, y, 1)\n",
    "\n",
    "    plt.figure(figsize=(10,10))\n",
    "\n",
    "    plt.scatter(x, y)\n",
    "    plt.plot(x, a*x+b, color='r')\n",
    "\n",
    "    plt.title(f\"{col_names[i]} vs. Number of Followers\")\n",
    "    plt.xlabel(f\"{col_names[i]}\")\n",
    "    plt.ylabel(f\"Number of Followers\")\n",
    "    plt.show()"
   ]
  },
  {
   "cell_type": "code",
   "execution_count": null,
   "metadata": {},
   "outputs": [],
   "source": [
    "corr = df.corr()\n",
    "sns.heatmap(corr)"
   ]
  },
  {
   "cell_type": "code",
   "execution_count": null,
   "metadata": {},
   "outputs": [],
   "source": [
    "for i in range(len(col_names) - 1):\n",
    "    \n",
    "    x = df[col_ids[i+1]]\n",
    "\n",
    "    plt.hist(x, bins=50, cumulative=True)\n",
    "    plt.title(f\"{col_names[i]} vs. Number of Followers Histogram\")\n",
    "\n",
    "    plt.xlabel(f\"{col_names[i]}\")\n",
    "    plt.ylabel(f\"Frequency\")\n",
    "    plt.show()"
   ]
  },
  {
   "cell_type": "code",
   "execution_count": 246,
   "metadata": {},
   "outputs": [
    {
     "data": {
      "image/png": "[encoded data removed]",
      "text/plain": [
       "<Figure size 640x480 with 1 Axes>"
      ]
     },
     "metadata": {},
     "output_type": "display_data"
    }
   ],
   "source": [
    "x = df[\"top_genre\"]\n",
    "plt.hist(x, bins=100)\n",
    "plt.xticks(rotation=90)\n",
    "plt.show()"
   ]
  },
  {
   "cell_type": "code",
   "execution_count": 259,
   "metadata": {},
   "outputs": [
    {
     "data": {
      "text/plain": [
       "<AxesSubplot: title={'center': 'Genre of Top Track'}, xlabel='Genre'>"
      ]
     },
     "execution_count": 259,
     "metadata": {},
     "output_type": "execute_result"
    },
    {
     "data": {
      "image/png": "[encoded data removed]",
      "text/plain": [
       "<Figure size 640x480 with 1 Axes>"
      ]
     },
     "metadata": {},
     "output_type": "display_data"
    }
   ],
   "source": [
    "genre_list = list(set(df[\"top_genre\"]))\n",
    "genre_dict = {\"Genre\":[], \"Frequency\":[]}\n",
    "for i in range(len(genre_list)):\n",
    "    genre_dict[\"Genre\"].append(genre_list[i])\n",
    "    genre_dict[\"Frequency\"].append(df[\"top_genre\"].value_counts()[i])\n",
    "\n",
    "dataFrame = pd.DataFrame(data=genre_dict)\n",
    "dataFrame.plot.bar(x=\"Genre\", y=\"Frequency\", rot=70, title=\"Genre of Top Track\")"
   ]
  }
 ],
 "metadata": {
  "kernelspec": {
   "display_name": "Python 3.10.4 64-bit",
   "language": "python",
   "name": "python3"
  },
  "language_info": {
   "codemirror_mode": {
    "name": "ipython",
    "version": 3
   },
   "file_extension": ".py",
   "mimetype": "text/x-python",
   "name": "python",
   "nbconvert_exporter": "python",
   "pygments_lexer": "ipython3",
   "version": "3.10.4"
  },
  "orig_nbformat": 4,
  "vscode": {
   "interpreter": {
    "hash": "bb692cb2394c5752c5ce7a5b2533bff2e7fe6959713efc77979c062a7b6fb6b2"
   }
  }
 },
 "nbformat": 4,
 "nbformat_minor": 2
}
